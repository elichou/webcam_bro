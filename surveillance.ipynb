{
 "cells": [
  {
   "cell_type": "code",
   "execution_count": 1,
   "metadata": {},
   "outputs": [
    {
     "name": "stdout",
     "output_type": "stream",
     "text": [
      "Downloading https://github.com/ultralytics/assets/releases/download/v0.0.0/yolov8n.pt to 'yolov8n.pt'...\n"
     ]
    },
    {
     "name": "stderr",
     "output_type": "stream",
     "text": [
      "100%|██████████| 6.23M/6.23M [00:00<00:00, 58.0MB/s]\n"
     ]
    }
   ],
   "source": [
    "import cv2\n",
    "import smtplib\n",
    "from email.mime.multipart import MIMEMultipart\n",
    "from email.mime.image import MIMEImage\n",
    "from email.mime.text import MIMEText\n",
    "from ultralytics import YOLO\n",
    "import pandas as pd\n",
    "\n",
    "# Load the pretrained model\n",
    "model = YOLO(\"yolov8n.pt\")\n",
    "\n",
    "def send_email(image):\n",
    "    # Set up the email server\n",
    "    server = smtplib.SMTP('smtp.gmail.com', 587)\n",
    "    server.starttls()\n",
    "    server.login(\"your_email@gmail.com\", \"your_password\")  # Replace with your credentials\n",
    "\n",
    "    # Create email message\n",
    "    msg = MIMEMultipart()\n",
    "    msg['From'] = \"your_email@gmail.com\"\n",
    "    msg['To'] = \"receiver_email@gmail.com\"\n",
    "    msg['Subject'] = \"Intruder Alert\"\n",
    "    text = MIMEText(\"An intruder was detected. See the attached image.\")\n",
    "    msg.attach(text)\n",
    "\n",
    "    # Attach the image\n",
    "    img_data = cv2.imencode('.jpg', image)[1].tobytes()\n",
    "    image = MIMEImage(img_data, name='intruder.jpg')\n",
    "    msg.attach(image)\n",
    "\n",
    "    # Send the email\n",
    "    server.send_message(msg)\n",
    "    server.quit()\n",
    "    print(\"Email sent with image!\")"
   ]
  },
  {
   "cell_type": "code",
   "execution_count": 2,
   "metadata": {},
   "outputs": [],
   "source": [
    "def get_person_coordinates(frame):\n",
    "    \"\"\"Extracts coordinates of 'person' from model predictions.\"\"\"\n",
    "    results = model(frame)\n",
    "    person_boxes = []\n",
    "    if results:\n",
    "        for result in results:\n",
    "            boxes = result.boxes.data.detach().cpu().numpy()\n",
    "            # Retrieve the index for 'person' from names dictionary\n",
    "            person_index = [k for k, v in result.names.items() if v == 'person'][0]  # Assuming 'person' is a key\n",
    "            # Filter out boxes detected as 'person'\n",
    "            for box in boxes:\n",
    "                if int(box[5]) == person_index and box[4] > 0.5:\n",
    "                    person_boxes.append([box[0], box[1], box[2], box[3]])\n",
    "    return person_boxes\n",
    "\n",
    "def webcam_detect():\n",
    "    cap = cv2.VideoCapture(\"http://192.168.1.17/live\")\n",
    "    while cap.isOpened():\n",
    "        ret, frame = cap.read()\n",
    "        if not ret:\n",
    "            print(\"Failed to grab frame\")\n",
    "            break\n",
    "\n",
    "        person_coordinates = get_person_coordinates(frame)\n",
    "        if person_coordinates:\n",
    "            print(\"detection\")\n",
    "            #send_email(frame)  # Send the frame where the person was detected\n",
    "\n",
    "        cv2.imshow('YOLOv8 Inference', frame)\n",
    "        if cv2.waitKey(1) & 0xFF == ord('q'):\n",
    "            break\n",
    "\n",
    "    cap.release()\n",
    "    cv2.destroyAllWindows()"
   ]
  },
  {
   "cell_type": "code",
   "execution_count": 3,
   "metadata": {},
   "outputs": [
    {
     "name": "stderr",
     "output_type": "stream",
     "text": [
      "[tcp @ 0x167bdd710] Connection to tcp://192.168.1.17:80 failed: Operation timed out\n",
      "OpenCV: Couldn't read video stream from file \"http://192.168.1.17/live\"\n"
     ]
    }
   ],
   "source": [
    "webcam_detect()"
   ]
  },
  {
   "cell_type": "code",
   "execution_count": null,
   "metadata": {},
   "outputs": [],
   "source": []
  }
 ],
 "metadata": {
  "kernelspec": {
   "display_name": "Python 3",
   "language": "python",
   "name": "python3"
  },
  "language_info": {
   "codemirror_mode": {
    "name": "ipython",
    "version": 3
   },
   "file_extension": ".py",
   "mimetype": "text/x-python",
   "name": "python",
   "nbconvert_exporter": "python",
   "pygments_lexer": "ipython3",
   "version": "3.11.8"
  }
 },
 "nbformat": 4,
 "nbformat_minor": 2
}
