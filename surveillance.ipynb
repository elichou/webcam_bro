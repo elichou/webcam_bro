{
 "cells": [
  {
   "cell_type": "code",
   "execution_count": 8,
   "metadata": {},
   "outputs": [
    {
     "name": "stderr",
     "output_type": "stream",
     "text": [
      "/opt/homebrew/lib/python3.11/site-packages/torch/_utils.py:181: RuntimeWarning: coroutine 'webcam_detect' was never awaited\n",
      "  t = torch.tensor([], dtype=storage.dtype, device=storage._untyped_storage.device)\n",
      "RuntimeWarning: Enable tracemalloc to get the object allocation traceback\n"
     ]
    }
   ],
   "source": [
    "import cv2\n",
    "import smtplib\n",
    "from email.mime.multipart import MIMEMultipart\n",
    "from email.mime.image import MIMEImage\n",
    "from email.mime.text import MIMEText\n",
    "from ultralytics import YOLO\n",
    "import pandas as pd\n",
    "import cv2\n",
    "import asyncio\n",
    "import telegram\n",
    "from telegram import Bot\n",
    "\n",
    "\n",
    "# Load the pretrained model\n",
    "model = YOLO(\"yolov8n.pt\")\n",
    "\n",
    "# Replace 'YOUR_TOKEN' with your actual Bot token received from BotFather\n",
    "TOKEN = \"7003877059:AAHuGD_HzyBrAtlL5Tc8_6Bh3PkZ68WSW6k\"\n",
    "\n",
    "# Replace 'YOUR_CHAT_ID' with your actual chat ID\n",
    "CHAT_ID = '650813102'\n",
    "\n",
    "\n",
    "async def send_telegram_message(image):\n",
    "    \"\"\"Sends a Telegram message with the detected image attached.\"\"\"\n",
    "    bot = Bot(TOKEN)\n",
    "    async with bot:\n",
    "        # Convert image from OpenCV to a file-like byte array to send as photo\n",
    "        ret, buffer = cv2.imencode('.jpg', image)\n",
    "        buffer = buffer.tobytes()\n",
    "        await bot.send_photo(chat_id=CHAT_ID, photo=buffer, caption=\"Intruder detected!\")\n"
   ]
  },
  {
   "cell_type": "code",
   "execution_count": 9,
   "metadata": {},
   "outputs": [],
   "source": [
    "def get_person_coordinates(frame):\n",
    "    \"\"\"Extracts coordinates of 'person' from model predictions.\"\"\"\n",
    "    results = model(frame)\n",
    "    person_boxes = []\n",
    "    if results:\n",
    "        for result in results:\n",
    "            boxes = result.boxes.data.detach().cpu().numpy()\n",
    "            # Retrieve the index for 'person' from names dictionary\n",
    "            person_index = [k for k, v in result.names.items() if v == 'person'][0]  # Assuming 'person' is a key\n",
    "            # Filter out boxes detected as 'person'\n",
    "            for box in boxes:\n",
    "                if int(box[5]) == person_index and box[4] > 0.5:\n",
    "                    person_boxes.append([box[0], box[1], box[2], box[3]])\n",
    "    return person_boxes\n",
    "\n",
    "async def webcam_detect():\n",
    "    cap = cv2.VideoCapture(\"http://192.168.1.17/live\")\n",
    "    email_sent = False  # Flag to control the email sending\n",
    "    pause_time = 60  # Pause for 60 seconds after sending an email\n",
    "\n",
    "    while cap.isOpened():\n",
    "        ret, frame = cap.read()\n",
    "        if not ret:\n",
    "            print(\"Failed to grab frame\")\n",
    "            time.sleep(1)\n",
    "        ret, frame = cap.read() \n",
    "        if not ret:\n",
    "            print(\"Failed to grab frame\")\n",
    "            time.sleep(1)\n",
    "\n",
    "        if not email_sent:\n",
    "            person_coordinates = get_person_coordinates(frame)\n",
    "            print(person_coordinates)\n",
    "            if person_coordinates:\n",
    "                print(\"Person detected\")\n",
    "                await send_telegram_message(frame) # Send the frame where the person was detected\n",
    "                email_sent = True  # Set the flag to True after sending an email\n",
    "                last_email_time = time.time()  # Record the time when the email was sent\n",
    "\n",
    "        else:\n",
    "            # Check if the pause time has elapsed\n",
    "            if (time.time() - last_email_time) > pause_time:\n",
    "                email_sent = False  # Reset the flag to start detecting again\n",
    "\n",
    "        cv2.imshow('YOLOv8 Inference', frame)\n",
    "        if cv2.waitKey(1) & 0xFF == ord('q'):\n",
    "            break\n",
    "\n",
    "    cap.release()\n",
    "    cv2.destroyAllWindows()"
   ]
  },
  {
   "cell_type": "code",
   "execution_count": 11,
   "metadata": {},
   "outputs": [
    {
     "data": {
      "text/plain": [
       "<coroutine object webcam_detect at 0x3228d5040>"
      ]
     },
     "execution_count": 11,
     "metadata": {},
     "output_type": "execute_result"
    }
   ],
   "source": [
    "(webcam_detect())"
   ]
  },
  {
   "cell_type": "code",
   "execution_count": null,
   "metadata": {},
   "outputs": [],
   "source": []
  },
  {
   "cell_type": "code",
   "execution_count": null,
   "metadata": {},
   "outputs": [],
   "source": []
  }
 ],
 "metadata": {
  "kernelspec": {
   "display_name": "Python 3",
   "language": "python",
   "name": "python3"
  },
  "language_info": {
   "codemirror_mode": {
    "name": "ipython",
    "version": 3
   },
   "file_extension": ".py",
   "mimetype": "text/x-python",
   "name": "python",
   "nbconvert_exporter": "python",
   "pygments_lexer": "ipython3",
   "version": "3.11.8"
  }
 },
 "nbformat": 4,
 "nbformat_minor": 2
}
